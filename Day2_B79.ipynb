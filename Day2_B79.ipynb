{
 "cells": [
  {
   "cell_type": "code",
   "execution_count": null,
   "id": "786e2986",
   "metadata": {},
   "outputs": [],
   "source": [
    "Introduction to Python Programming:"
   ]
  },
  {
   "cell_type": "code",
   "execution_count": null,
   "id": "403c0d25",
   "metadata": {},
   "outputs": [],
   "source": []
  },
  {
   "cell_type": "code",
   "execution_count": null,
   "id": "a6b0ea57",
   "metadata": {},
   "outputs": [],
   "source": [
    "Understanding the Concept of Variables in Python:"
   ]
  },
  {
   "cell_type": "code",
   "execution_count": null,
   "id": "3452d37e",
   "metadata": {},
   "outputs": [],
   "source": []
  },
  {
   "cell_type": "code",
   "execution_count": 4,
   "id": "e7ae4d6b",
   "metadata": {},
   "outputs": [
    {
     "name": "stdout",
     "output_type": "stream",
     "text": [
      "10\n"
     ]
    }
   ],
   "source": [
    "x=4\n",
    "y=6\n",
    "z=x+y\n",
    "print(z)"
   ]
  },
  {
   "cell_type": "code",
   "execution_count": 5,
   "id": "7828941d",
   "metadata": {},
   "outputs": [
    {
     "name": "stdout",
     "output_type": "stream",
     "text": [
      "ALTAF\n"
     ]
    }
   ],
   "source": [
    "first_name=\"ALTAF\" #variable name without namespace Rule 1\n",
    "print(first_name)"
   ]
  },
  {
   "cell_type": "code",
   "execution_count": 8,
   "id": "db8f0829",
   "metadata": {},
   "outputs": [
    {
     "name": "stdout",
     "output_type": "stream",
     "text": [
      "Altaf\n"
     ]
    }
   ],
   "source": [
    "firstname1='Altaf' # variable name starting without number & doesn't contain special character\n",
    "print(firstname1)"
   ]
  },
  {
   "cell_type": "code",
   "execution_count": 9,
   "id": "fe76df43",
   "metadata": {},
   "outputs": [
    {
     "name": "stdout",
     "output_type": "stream",
     "text": [
      "Altaf Kazi\n"
     ]
    }
   ],
   "source": [
    "name='Altaf Kazi' #single quote\n",
    "print(name)"
   ]
  },
  {
   "cell_type": "code",
   "execution_count": 10,
   "id": "54572408",
   "metadata": {},
   "outputs": [
    {
     "name": "stdout",
     "output_type": "stream",
     "text": [
      "Altaf Kazi\n"
     ]
    }
   ],
   "source": [
    "name=\"Altaf Kazi\" #double quote\n",
    "print(name)"
   ]
  },
  {
   "cell_type": "code",
   "execution_count": 11,
   "id": "c1114737",
   "metadata": {},
   "outputs": [
    {
     "data": {
      "text/plain": [
       "str"
      ]
     },
     "execution_count": 11,
     "metadata": {},
     "output_type": "execute_result"
    }
   ],
   "source": [
    "type(name) #understanding string methods"
   ]
  },
  {
   "cell_type": "code",
   "execution_count": 12,
   "id": "08bf8b5e",
   "metadata": {},
   "outputs": [
    {
     "data": {
      "text/plain": [
       "str"
      ]
     },
     "execution_count": 12,
     "metadata": {},
     "output_type": "execute_result"
    }
   ],
   "source": [
    "type(firstname1)"
   ]
  },
  {
   "cell_type": "code",
   "execution_count": 13,
   "id": "d21b2609",
   "metadata": {},
   "outputs": [
    {
     "name": "stdout",
     "output_type": "stream",
     "text": [
      "altaf kazi\n"
     ]
    }
   ],
   "source": [
    "fullname='altaf kazi'\n",
    "print(fullname)"
   ]
  },
  {
   "cell_type": "code",
   "execution_count": 14,
   "id": "31cafa87",
   "metadata": {},
   "outputs": [
    {
     "name": "stdout",
     "output_type": "stream",
     "text": [
      "Altaf Kazi\n"
     ]
    }
   ],
   "source": [
    "print(fullname.title()) # print name in standard rule"
   ]
  },
  {
   "cell_type": "code",
   "execution_count": 15,
   "id": "4115db02",
   "metadata": {},
   "outputs": [
    {
     "name": "stdout",
     "output_type": "stream",
     "text": [
      "ALTAF KAZI\n"
     ]
    }
   ],
   "source": [
    "print(fullname.upper()) # print name in capital letters"
   ]
  },
  {
   "cell_type": "code",
   "execution_count": 16,
   "id": "bb8b6533",
   "metadata": {},
   "outputs": [
    {
     "name": "stdout",
     "output_type": "stream",
     "text": [
      "altaf kazi\n"
     ]
    }
   ],
   "source": [
    "print(fullname.lower()) # print name in small letters"
   ]
  },
  {
   "cell_type": "code",
   "execution_count": null,
   "id": "17dfddbf",
   "metadata": {},
   "outputs": [],
   "source": []
  },
  {
   "cell_type": "code",
   "execution_count": 17,
   "id": "92a8e146",
   "metadata": {},
   "outputs": [
    {
     "name": "stdout",
     "output_type": "stream",
     "text": [
      "The Zen of Python, by Tim Peters\n",
      "\n",
      "Beautiful is better than ugly.\n",
      "Explicit is better than implicit.\n",
      "Simple is better than complex.\n",
      "Complex is better than complicated.\n",
      "Flat is better than nested.\n",
      "Sparse is better than dense.\n",
      "Readability counts.\n",
      "Special cases aren't special enough to break the rules.\n",
      "Although practicality beats purity.\n",
      "Errors should never pass silently.\n",
      "Unless explicitly silenced.\n",
      "In the face of ambiguity, refuse the temptation to guess.\n",
      "There should be one-- and preferably only one --obvious way to do it.\n",
      "Although that way may not be obvious at first unless you're Dutch.\n",
      "Now is better than never.\n",
      "Although never is often better than *right* now.\n",
      "If the implementation is hard to explain, it's a bad idea.\n",
      "If the implementation is easy to explain, it may be a good idea.\n",
      "Namespaces are one honking great idea -- let's do more of those!\n"
     ]
    }
   ],
   "source": [
    "import this"
   ]
  },
  {
   "cell_type": "code",
   "execution_count": null,
   "id": "23d5a040",
   "metadata": {},
   "outputs": [],
   "source": []
  }
 ],
 "metadata": {
  "kernelspec": {
   "display_name": "Python 3 (ipykernel)",
   "language": "python",
   "name": "python3"
  },
  "language_info": {
   "codemirror_mode": {
    "name": "ipython",
    "version": 3
   },
   "file_extension": ".py",
   "mimetype": "text/x-python",
   "name": "python",
   "nbconvert_exporter": "python",
   "pygments_lexer": "ipython3",
   "version": "3.10.9"
  }
 },
 "nbformat": 4,
 "nbformat_minor": 5
}
