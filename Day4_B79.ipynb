{
 "cells": [
  {
   "cell_type": "markdown",
   "id": "cb7879a1",
   "metadata": {},
   "source": [
    "# Introduction to List Datatype:"
   ]
  },
  {
   "cell_type": "code",
   "execution_count": 29,
   "id": "ef0a6a68",
   "metadata": {},
   "outputs": [],
   "source": [
    "students = ['vinoth','ramya','ayesha','sara','david','naveen','ahmed']"
   ]
  },
  {
   "cell_type": "code",
   "execution_count": 30,
   "id": "54735ef0",
   "metadata": {},
   "outputs": [
    {
     "name": "stdout",
     "output_type": "stream",
     "text": [
      "['vinoth', 'ramya', 'ayesha', 'sara', 'david', 'naveen', 'ahmed']\n"
     ]
    }
   ],
   "source": [
    "print(students)"
   ]
  },
  {
   "cell_type": "code",
   "execution_count": 31,
   "id": "dbf9eace",
   "metadata": {},
   "outputs": [
    {
     "data": {
      "text/plain": [
       "list"
      ]
     },
     "execution_count": 31,
     "metadata": {},
     "output_type": "execute_result"
    }
   ],
   "source": [
    "type(students)"
   ]
  },
  {
   "cell_type": "code",
   "execution_count": 32,
   "id": "71c48ab0",
   "metadata": {},
   "outputs": [
    {
     "name": "stdout",
     "output_type": "stream",
     "text": [
      "ramya\n"
     ]
    }
   ],
   "source": [
    "print(students[1])"
   ]
  },
  {
   "cell_type": "code",
   "execution_count": 33,
   "id": "62ee481a",
   "metadata": {},
   "outputs": [
    {
     "name": "stdout",
     "output_type": "stream",
     "text": [
      "Ramya\n"
     ]
    }
   ],
   "source": [
    "print(students[1].title())"
   ]
  },
  {
   "cell_type": "code",
   "execution_count": 34,
   "id": "b4bc7dc3",
   "metadata": {},
   "outputs": [],
   "source": [
    "students.append('raghul')"
   ]
  },
  {
   "cell_type": "code",
   "execution_count": 35,
   "id": "93c06233",
   "metadata": {},
   "outputs": [
    {
     "name": "stdout",
     "output_type": "stream",
     "text": [
      "['vinoth', 'ramya', 'ayesha', 'sara', 'david', 'naveen', 'ahmed', 'raghul']\n"
     ]
    }
   ],
   "source": [
    "print(students)"
   ]
  },
  {
   "cell_type": "code",
   "execution_count": 36,
   "id": "3826b67e",
   "metadata": {},
   "outputs": [],
   "source": [
    "students.insert(2,'firoza')"
   ]
  },
  {
   "cell_type": "code",
   "execution_count": 37,
   "id": "c7a5ebd6",
   "metadata": {},
   "outputs": [
    {
     "name": "stdout",
     "output_type": "stream",
     "text": [
      "['vinoth', 'ramya', 'firoza', 'ayesha', 'sara', 'david', 'naveen', 'ahmed', 'raghul']\n"
     ]
    }
   ],
   "source": [
    "print(students)"
   ]
  },
  {
   "cell_type": "code",
   "execution_count": 38,
   "id": "8ee605cd",
   "metadata": {},
   "outputs": [],
   "source": [
    "students[0]= 'veni'"
   ]
  },
  {
   "cell_type": "code",
   "execution_count": 39,
   "id": "f1a15ecc",
   "metadata": {},
   "outputs": [],
   "source": [
    "students = ['vinoth','ramya','ayesha','sara','david','naveen','ahmed']"
   ]
  },
  {
   "cell_type": "code",
   "execution_count": 40,
   "id": "d2259d78",
   "metadata": {},
   "outputs": [],
   "source": [
    "students[0]= 'veni'"
   ]
  },
  {
   "cell_type": "code",
   "execution_count": 41,
   "id": "ccdb24a5",
   "metadata": {},
   "outputs": [
    {
     "name": "stdout",
     "output_type": "stream",
     "text": [
      "['veni', 'ramya', 'ayesha', 'sara', 'david', 'naveen', 'ahmed']\n"
     ]
    }
   ],
   "source": [
    "print(students)"
   ]
  },
  {
   "cell_type": "code",
   "execution_count": 42,
   "id": "86055a5f",
   "metadata": {},
   "outputs": [],
   "source": [
    "x = students.pop(1)"
   ]
  },
  {
   "cell_type": "code",
   "execution_count": 43,
   "id": "56287e09",
   "metadata": {},
   "outputs": [
    {
     "name": "stdout",
     "output_type": "stream",
     "text": [
      "['veni', 'ayesha', 'sara', 'david', 'naveen', 'ahmed']\n"
     ]
    }
   ],
   "source": [
    "print(students)"
   ]
  },
  {
   "cell_type": "code",
   "execution_count": 44,
   "id": "a1476115",
   "metadata": {},
   "outputs": [
    {
     "name": "stdout",
     "output_type": "stream",
     "text": [
      "ramya\n"
     ]
    }
   ],
   "source": [
    "print(x)"
   ]
  },
  {
   "cell_type": "code",
   "execution_count": 45,
   "id": "e0088724",
   "metadata": {},
   "outputs": [],
   "source": [
    "del students[1]"
   ]
  },
  {
   "cell_type": "code",
   "execution_count": 46,
   "id": "6c165686",
   "metadata": {},
   "outputs": [
    {
     "name": "stdout",
     "output_type": "stream",
     "text": [
      "['veni', 'sara', 'david', 'naveen', 'ahmed']\n"
     ]
    }
   ],
   "source": [
    "print(students)"
   ]
  }
 ],
 "metadata": {
  "kernelspec": {
   "display_name": "Python 3 (ipykernel)",
   "language": "python",
   "name": "python3"
  },
  "language_info": {
   "codemirror_mode": {
    "name": "ipython",
    "version": 3
   },
   "file_extension": ".py",
   "mimetype": "text/x-python",
   "name": "python",
   "nbconvert_exporter": "python",
   "pygments_lexer": "ipython3",
   "version": "3.10.9"
  }
 },
 "nbformat": 4,
 "nbformat_minor": 5
}
