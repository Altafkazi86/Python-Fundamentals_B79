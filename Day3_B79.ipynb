{
 "cells": [
  {
   "cell_type": "code",
   "execution_count": null,
   "id": "0e381452",
   "metadata": {},
   "outputs": [],
   "source": [
    "String Concept:"
   ]
  },
  {
   "cell_type": "code",
   "execution_count": 43,
   "id": "e6280099",
   "metadata": {},
   "outputs": [
    {
     "name": "stdout",
     "output_type": "stream",
     "text": [
      "altaf kazi\n"
     ]
    }
   ],
   "source": [
    "firstname = \"altaf\"\n",
    "lastname = \"kazi\"\n",
    "print(firstname,lastname)"
   ]
  },
  {
   "cell_type": "code",
   "execution_count": 44,
   "id": "15c332e1",
   "metadata": {},
   "outputs": [
    {
     "name": "stdout",
     "output_type": "stream",
     "text": [
      "altaf kazi\n"
     ]
    }
   ],
   "source": [
    "fullname = f\"{firstname} {lastname}\"\n",
    "print(fullname)"
   ]
  },
  {
   "cell_type": "code",
   "execution_count": 41,
   "id": "b3289c6c",
   "metadata": {},
   "outputs": [],
   "source": [
    "message = f\"Congratulations ,{fullname.title()}\""
   ]
  },
  {
   "cell_type": "code",
   "execution_count": 45,
   "id": "49e30d9e",
   "metadata": {},
   "outputs": [
    {
     "name": "stdout",
     "output_type": "stream",
     "text": [
      "Congratulations ,Altaf Kazi\n"
     ]
    }
   ],
   "source": [
    "print(message)"
   ]
  },
  {
   "cell_type": "code",
   "execution_count": null,
   "id": "103a70ac",
   "metadata": {},
   "outputs": [],
   "source": []
  },
  {
   "cell_type": "code",
   "execution_count": null,
   "id": "54f524f2",
   "metadata": {},
   "outputs": [],
   "source": [
    "adding white spaces"
   ]
  },
  {
   "cell_type": "code",
   "execution_count": 46,
   "id": "2148134f",
   "metadata": {},
   "outputs": [
    {
     "name": "stdout",
     "output_type": "stream",
     "text": [
      "Cars:\n",
      "BMW\n",
      "Audi\n",
      "Range Rover\n",
      "Mercedes\n"
     ]
    }
   ],
   "source": [
    "print(\"Cars:\\nBMW\\nAudi\\nRange Rover\\nMercedes\")"
   ]
  },
  {
   "cell_type": "code",
   "execution_count": 47,
   "id": "5c18d3b9",
   "metadata": {},
   "outputs": [
    {
     "name": "stdout",
     "output_type": "stream",
     "text": [
      "Cars:\n",
      "\tBMW\n",
      "\tAudi\n",
      "\tRange Rover\n",
      "\tMercedes\n"
     ]
    }
   ],
   "source": [
    "print(\"Cars:\\n\\tBMW\\n\\tAudi\\n\\tRange Rover\\n\\tMercedes\")"
   ]
  },
  {
   "cell_type": "code",
   "execution_count": 34,
   "id": "d799ab00",
   "metadata": {},
   "outputs": [
    {
     "name": "stdout",
     "output_type": "stream",
     "text": [
      "  Python\n"
     ]
    }
   ],
   "source": [
    "lang1='  Python'\n",
    "print(lang1)"
   ]
  },
  {
   "cell_type": "code",
   "execution_count": 40,
   "id": "dc1d5f79",
   "metadata": {},
   "outputs": [
    {
     "name": "stdout",
     "output_type": "stream",
     "text": [
      "Python   \n"
     ]
    }
   ],
   "source": [
    "lang2='Python   '\n",
    "print(lang2)"
   ]
  },
  {
   "cell_type": "code",
   "execution_count": 36,
   "id": "2f242598",
   "metadata": {},
   "outputs": [
    {
     "name": "stdout",
     "output_type": "stream",
     "text": [
      "  Python  \n"
     ]
    }
   ],
   "source": [
    "lang3= '  Python  '\n",
    "print(lang3)"
   ]
  },
  {
   "cell_type": "code",
   "execution_count": 37,
   "id": "6e0150e7",
   "metadata": {},
   "outputs": [
    {
     "data": {
      "text/plain": [
       "'Python'"
      ]
     },
     "execution_count": 37,
     "metadata": {},
     "output_type": "execute_result"
    }
   ],
   "source": [
    "lang1.lstrip()"
   ]
  },
  {
   "cell_type": "code",
   "execution_count": 38,
   "id": "aa1f1d81",
   "metadata": {},
   "outputs": [
    {
     "data": {
      "text/plain": [
       "'Python'"
      ]
     },
     "execution_count": 38,
     "metadata": {},
     "output_type": "execute_result"
    }
   ],
   "source": [
    "lang2.rstrip()"
   ]
  },
  {
   "cell_type": "code",
   "execution_count": 39,
   "id": "21ca86e6",
   "metadata": {},
   "outputs": [
    {
     "data": {
      "text/plain": [
       "'Python'"
      ]
     },
     "execution_count": 39,
     "metadata": {},
     "output_type": "execute_result"
    }
   ],
   "source": [
    "lang3.strip()"
   ]
  },
  {
   "cell_type": "code",
   "execution_count": null,
   "id": "f8db5a12",
   "metadata": {},
   "outputs": [],
   "source": []
  }
 ],
 "metadata": {
  "kernelspec": {
   "display_name": "Python 3 (ipykernel)",
   "language": "python",
   "name": "python3"
  },
  "language_info": {
   "codemirror_mode": {
    "name": "ipython",
    "version": 3
   },
   "file_extension": ".py",
   "mimetype": "text/x-python",
   "name": "python",
   "nbconvert_exporter": "python",
   "pygments_lexer": "ipython3",
   "version": "3.10.9"
  }
 },
 "nbformat": 4,
 "nbformat_minor": 5
}
